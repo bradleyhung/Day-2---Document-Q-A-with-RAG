{
 "cells": [
  {
   "cell_type": "code",
   "execution_count": 1,
   "id": "1309fdcd",
   "metadata": {
    "_cell_guid": "b1076dfc-b9ad-4769-8c92-a6c4dae69d19",
    "_uuid": "8f2839f25d086af736a60e9eeb907d3b93b6e0e5",
    "execution": {
     "iopub.execute_input": "2024-11-12T15:41:14.869192Z",
     "iopub.status.busy": "2024-11-12T15:41:14.868761Z",
     "iopub.status.idle": "2024-11-12T15:41:15.764837Z",
     "shell.execute_reply": "2024-11-12T15:41:15.763798Z"
    },
    "papermill": {
     "duration": 0.904811,
     "end_time": "2024-11-12T15:41:15.767275",
     "exception": false,
     "start_time": "2024-11-12T15:41:14.862464",
     "status": "completed"
    },
    "tags": []
   },
   "outputs": [],
   "source": [
    "# This Python 3 environment comes with many helpful analytics libraries installed\n",
    "# It is defined by the kaggle/python Docker image: https://github.com/kaggle/docker-python\n",
    "# For example, here's several helpful packages to load\n",
    "\n",
    "import numpy as np # linear algebra\n",
    "import pandas as pd # data processing, CSV file I/O (e.g. pd.read_csv)\n",
    "\n",
    "# Input data files are available in the read-only \"../input/\" directory\n",
    "# For example, running this (by clicking run or pressing Shift+Enter) will list all files under the input directory\n",
    "\n",
    "import os\n",
    "for dirname, _, filenames in os.walk('/kaggle/input'):\n",
    "    for filename in filenames:\n",
    "        print(os.path.join(dirname, filename))\n",
    "\n",
    "# You can write up to 20GB to the current directory (/kaggle/working/) that gets preserved as output when you create a version using \"Save & Run All\" \n",
    "# You can also write temporary files to /kaggle/temp/, but they won't be saved outside of the current session"
   ]
  },
  {
   "cell_type": "code",
   "execution_count": 2,
   "id": "603b9070",
   "metadata": {
    "execution": {
     "iopub.execute_input": "2024-11-12T15:41:15.778110Z",
     "iopub.status.busy": "2024-11-12T15:41:15.777594Z",
     "iopub.status.idle": "2024-11-12T15:42:07.667531Z",
     "shell.execute_reply": "2024-11-12T15:42:07.666229Z"
    },
    "papermill": {
     "duration": 51.897592,
     "end_time": "2024-11-12T15:42:07.669930",
     "exception": false,
     "start_time": "2024-11-12T15:41:15.772338",
     "status": "completed"
    },
    "tags": []
   },
   "outputs": [
    {
     "name": "stdout",
     "output_type": "stream",
     "text": [
      "\u001b[31mERROR: pip's dependency resolver does not currently take into account all the packages that are installed. This behaviour is the source of the following dependency conflicts.\r\n",
      "kfp 2.5.0 requires google-cloud-storage<3,>=2.2.1, but you have google-cloud-storage 1.44.0 which is incompatible.\r\n",
      "kfp 2.5.0 requires kubernetes<27,>=8.0.0, but you have kubernetes 31.0.0 which is incompatible.\u001b[0m\u001b[31m\r\n",
      "\u001b[0mNote: you may need to restart the kernel to use updated packages.\n"
     ]
    }
   ],
   "source": [
    "%pip install -U -q \"google-generativeai>=0.8.3\" chromadb"
   ]
  },
  {
   "cell_type": "code",
   "execution_count": 3,
   "id": "f786bc43",
   "metadata": {
    "execution": {
     "iopub.execute_input": "2024-11-12T15:42:07.680440Z",
     "iopub.status.busy": "2024-11-12T15:42:07.680027Z",
     "iopub.status.idle": "2024-11-12T15:42:08.780043Z",
     "shell.execute_reply": "2024-11-12T15:42:08.778984Z"
    },
    "papermill": {
     "duration": 1.108226,
     "end_time": "2024-11-12T15:42:08.782531",
     "exception": false,
     "start_time": "2024-11-12T15:42:07.674305",
     "status": "completed"
    },
    "tags": []
   },
   "outputs": [],
   "source": [
    "import google.generativeai as genai\n",
    "from IPython.display import Markdown"
   ]
  },
  {
   "cell_type": "code",
   "execution_count": 4,
   "id": "0ce692c2",
   "metadata": {
    "execution": {
     "iopub.execute_input": "2024-11-12T15:42:08.792953Z",
     "iopub.status.busy": "2024-11-12T15:42:08.792388Z",
     "iopub.status.idle": "2024-11-12T15:42:09.069149Z",
     "shell.execute_reply": "2024-11-12T15:42:09.068113Z"
    },
    "papermill": {
     "duration": 0.284734,
     "end_time": "2024-11-12T15:42:09.071716",
     "exception": false,
     "start_time": "2024-11-12T15:42:08.786982",
     "status": "completed"
    },
    "tags": []
   },
   "outputs": [],
   "source": [
    "from kaggle_secrets import UserSecretsClient\n",
    "\n",
    "GOOGLE_API_KEY = UserSecretsClient().get_secret(\"GOOGLE_API_KEY\")\n",
    "genai.configure(api_key=GOOGLE_API_KEY)"
   ]
  },
  {
   "cell_type": "code",
   "execution_count": 5,
   "id": "0e455947",
   "metadata": {
    "execution": {
     "iopub.execute_input": "2024-11-12T15:42:09.082447Z",
     "iopub.status.busy": "2024-11-12T15:42:09.081586Z",
     "iopub.status.idle": "2024-11-12T15:42:09.336075Z",
     "shell.execute_reply": "2024-11-12T15:42:09.335191Z"
    },
    "papermill": {
     "duration": 0.262391,
     "end_time": "2024-11-12T15:42:09.338569",
     "exception": false,
     "start_time": "2024-11-12T15:42:09.076178",
     "status": "completed"
    },
    "tags": []
   },
   "outputs": [],
   "source": [
    "from kaggle_secrets import UserSecretsClient\n",
    "\n",
    "GOOGLE_API_KEY = UserSecretsClient().get_secret(\"GOOGLE_API_KEY\")\n",
    "genai.configure(api_key=GOOGLE_API_KEY)"
   ]
  },
  {
   "cell_type": "code",
   "execution_count": 6,
   "id": "8a03d623",
   "metadata": {
    "execution": {
     "iopub.execute_input": "2024-11-12T15:42:09.349135Z",
     "iopub.status.busy": "2024-11-12T15:42:09.348447Z",
     "iopub.status.idle": "2024-11-12T15:42:09.615221Z",
     "shell.execute_reply": "2024-11-12T15:42:09.614090Z"
    },
    "papermill": {
     "duration": 0.274871,
     "end_time": "2024-11-12T15:42:09.617800",
     "exception": false,
     "start_time": "2024-11-12T15:42:09.342929",
     "status": "completed"
    },
    "tags": []
   },
   "outputs": [],
   "source": [
    "from kaggle_secrets import UserSecretsClient\n",
    "\n",
    "GOOGLE_API_KEY = UserSecretsClient().get_secret(\"GOOGLE_API_KEY\")\n",
    "genai.configure(api_key=GOOGLE_API_KEY)"
   ]
  },
  {
   "cell_type": "code",
   "execution_count": 7,
   "id": "80a59c45",
   "metadata": {
    "execution": {
     "iopub.execute_input": "2024-11-12T15:42:09.628666Z",
     "iopub.status.busy": "2024-11-12T15:42:09.628284Z",
     "iopub.status.idle": "2024-11-12T15:42:10.548944Z",
     "shell.execute_reply": "2024-11-12T15:42:10.547814Z"
    },
    "papermill": {
     "duration": 0.928506,
     "end_time": "2024-11-12T15:42:10.551157",
     "exception": false,
     "start_time": "2024-11-12T15:42:09.622651",
     "status": "completed"
    },
    "tags": []
   },
   "outputs": [
    {
     "name": "stdout",
     "output_type": "stream",
     "text": [
      "models/embedding-001\n",
      "models/text-embedding-004\n"
     ]
    }
   ],
   "source": [
    "for m in genai.list_models():\n",
    "    if \"embedContent\" in m.supported_generation_methods:\n",
    "        print(m.name)"
   ]
  },
  {
   "cell_type": "code",
   "execution_count": 8,
   "id": "d463445d",
   "metadata": {
    "execution": {
     "iopub.execute_input": "2024-11-12T15:42:10.561376Z",
     "iopub.status.busy": "2024-11-12T15:42:10.560988Z",
     "iopub.status.idle": "2024-11-12T15:42:10.566825Z",
     "shell.execute_reply": "2024-11-12T15:42:10.565903Z"
    },
    "papermill": {
     "duration": 0.013483,
     "end_time": "2024-11-12T15:42:10.568944",
     "exception": false,
     "start_time": "2024-11-12T15:42:10.555461",
     "status": "completed"
    },
    "tags": []
   },
   "outputs": [],
   "source": [
    "DOCUMENT1 = \"Operating the Climate Control System  Your Googlecar has a climate control system that allows you to adjust the temperature and airflow in the car. To operate the climate control system, use the buttons and knobs located on the center console.  Temperature: The temperature knob controls the temperature inside the car. Turn the knob clockwise to increase the temperature or counterclockwise to decrease the temperature. Airflow: The airflow knob controls the amount of airflow inside the car. Turn the knob clockwise to increase the airflow or counterclockwise to decrease the airflow. Fan speed: The fan speed knob controls the speed of the fan. Turn the knob clockwise to increase the fan speed or counterclockwise to decrease the fan speed. Mode: The mode button allows you to select the desired mode. The available modes are: Auto: The car will automatically adjust the temperature and airflow to maintain a comfortable level. Cool: The car will blow cool air into the car. Heat: The car will blow warm air into the car. Defrost: The car will blow warm air onto the windshield to defrost it.\"\n",
    "DOCUMENT2 = 'Your Googlecar has a large touchscreen display that provides access to a variety of features, including navigation, entertainment, and climate control. To use the touchscreen display, simply touch the desired icon.  For example, you can touch the \"Navigation\" icon to get directions to your destination or touch the \"Music\" icon to play your favorite songs.'\n",
    "DOCUMENT3 = \"Shifting Gears Your Googlecar has an automatic transmission. To shift gears, simply move the shift lever to the desired position.  Park: This position is used when you are parked. The wheels are locked and the car cannot move. Reverse: This position is used to back up. Neutral: This position is used when you are stopped at a light or in traffic. The car is not in gear and will not move unless you press the gas pedal. Drive: This position is used to drive forward. Low: This position is used for driving in snow or other slippery conditions.\"\n",
    "\n",
    "documents = [DOCUMENT1, DOCUMENT2, DOCUMENT3]"
   ]
  },
  {
   "cell_type": "code",
   "execution_count": 9,
   "id": "2c831a6d",
   "metadata": {
    "execution": {
     "iopub.execute_input": "2024-11-12T15:42:10.578951Z",
     "iopub.status.busy": "2024-11-12T15:42:10.578577Z",
     "iopub.status.idle": "2024-11-12T15:42:11.751803Z",
     "shell.execute_reply": "2024-11-12T15:42:11.750526Z"
    },
    "papermill": {
     "duration": 1.181124,
     "end_time": "2024-11-12T15:42:11.754397",
     "exception": false,
     "start_time": "2024-11-12T15:42:10.573273",
     "status": "completed"
    },
    "tags": []
   },
   "outputs": [],
   "source": [
    "from chromadb import Documents, EmbeddingFunction, Embeddings\n",
    "from google.api_core import retry\n",
    "\n",
    "\n",
    "class GeminiEmbeddingFunction(EmbeddingFunction):\n",
    "    # Specify whether to generate embeddings for documents, or queries\n",
    "    document_mode = True\n",
    "\n",
    "    def __call__(self, input: Documents) -> Embeddings:\n",
    "        if self.document_mode:\n",
    "            embedding_task = \"retrieval_document\"\n",
    "        else:\n",
    "            embedding_task = \"retrieval_query\"\n",
    "\n",
    "        retry_policy = {\"retry\": retry.Retry(predicate=retry.if_transient_error)}\n",
    "\n",
    "        response = genai.embed_content(\n",
    "            model=\"models/text-embedding-004\",\n",
    "            content=input,\n",
    "            task_type=embedding_task,\n",
    "            request_options=retry_policy,\n",
    "        )\n",
    "        return response[\"embedding\"]"
   ]
  },
  {
   "cell_type": "code",
   "execution_count": 10,
   "id": "2d81525d",
   "metadata": {
    "execution": {
     "iopub.execute_input": "2024-11-12T15:42:11.766005Z",
     "iopub.status.busy": "2024-11-12T15:42:11.765591Z",
     "iopub.status.idle": "2024-11-12T15:42:12.986207Z",
     "shell.execute_reply": "2024-11-12T15:42:12.985110Z"
    },
    "papermill": {
     "duration": 1.228857,
     "end_time": "2024-11-12T15:42:12.988780",
     "exception": false,
     "start_time": "2024-11-12T15:42:11.759923",
     "status": "completed"
    },
    "tags": []
   },
   "outputs": [],
   "source": [
    "import chromadb\n",
    "\n",
    "DB_NAME = \"googlecardb\"\n",
    "embed_fn = GeminiEmbeddingFunction()\n",
    "embed_fn.document_mode = True\n",
    "\n",
    "chroma_client = chromadb.Client()\n",
    "db = chroma_client.get_or_create_collection(name=DB_NAME, embedding_function=embed_fn)\n",
    "\n",
    "db.add(documents=documents, ids=[str(i) for i in range(len(documents))])"
   ]
  },
  {
   "cell_type": "code",
   "execution_count": 11,
   "id": "7dc186b0",
   "metadata": {
    "execution": {
     "iopub.execute_input": "2024-11-12T15:42:12.999440Z",
     "iopub.status.busy": "2024-11-12T15:42:12.998786Z",
     "iopub.status.idle": "2024-11-12T15:42:13.008941Z",
     "shell.execute_reply": "2024-11-12T15:42:13.007838Z"
    },
    "papermill": {
     "duration": 0.017886,
     "end_time": "2024-11-12T15:42:13.011175",
     "exception": false,
     "start_time": "2024-11-12T15:42:12.993289",
     "status": "completed"
    },
    "tags": []
   },
   "outputs": [
    {
     "data": {
      "text/plain": [
       "3"
      ]
     },
     "execution_count": 11,
     "metadata": {},
     "output_type": "execute_result"
    }
   ],
   "source": [
    "db.count()\n",
    "# You can peek at the data too.\n",
    "# db.peek(1)"
   ]
  },
  {
   "cell_type": "code",
   "execution_count": 12,
   "id": "45d31e68",
   "metadata": {
    "execution": {
     "iopub.execute_input": "2024-11-12T15:42:13.022199Z",
     "iopub.status.busy": "2024-11-12T15:42:13.021491Z",
     "iopub.status.idle": "2024-11-12T15:42:14.017102Z",
     "shell.execute_reply": "2024-11-12T15:42:14.016055Z"
    },
    "papermill": {
     "duration": 1.003497,
     "end_time": "2024-11-12T15:42:14.019267",
     "exception": false,
     "start_time": "2024-11-12T15:42:13.015770",
     "status": "completed"
    },
    "tags": []
   },
   "outputs": [
    {
     "data": {
      "text/markdown": [
       "Your Googlecar has a large touchscreen display that provides access to a variety of features, including navigation, entertainment, and climate control. To use the touchscreen display, simply touch the desired icon.  For example, you can touch the \"Navigation\" icon to get directions to your destination or touch the \"Music\" icon to play your favorite songs."
      ],
      "text/plain": [
       "<IPython.core.display.Markdown object>"
      ]
     },
     "execution_count": 12,
     "metadata": {},
     "output_type": "execute_result"
    }
   ],
   "source": [
    "# Switch to query mode when generating embeddings.\n",
    "embed_fn.document_mode = False\n",
    "\n",
    "# Search the Chroma DB using the specified query.\n",
    "query = \"How do you use the touchscreen to play music?\"\n",
    "\n",
    "result = db.query(query_texts=[query], n_results=1)\n",
    "[[passage]] = result[\"documents\"]\n",
    "\n",
    "Markdown(passage)"
   ]
  },
  {
   "cell_type": "code",
   "execution_count": 13,
   "id": "99e5950b",
   "metadata": {
    "execution": {
     "iopub.execute_input": "2024-11-12T15:42:14.029880Z",
     "iopub.status.busy": "2024-11-12T15:42:14.029475Z",
     "iopub.status.idle": "2024-11-12T15:42:14.035797Z",
     "shell.execute_reply": "2024-11-12T15:42:14.034821Z"
    },
    "papermill": {
     "duration": 0.014371,
     "end_time": "2024-11-12T15:42:14.038229",
     "exception": false,
     "start_time": "2024-11-12T15:42:14.023858",
     "status": "completed"
    },
    "tags": []
   },
   "outputs": [
    {
     "name": "stdout",
     "output_type": "stream",
     "text": [
      "You are a helpful and informative bot that answers questions using text from the reference passage included below. \n",
      "Be sure to respond in a complete sentence, being comprehensive, including all relevant background information. \n",
      "However, you are talking to a non-technical audience, so be sure to break down complicated concepts and \n",
      "strike a friendly and converstional tone. If the passage is irrelevant to the answer, you may ignore it.\n",
      "\n",
      "QUESTION: How do you use the touchscreen to play music?\n",
      "PASSAGE: Your Googlecar has a large touchscreen display that provides access to a variety of features, including navigation, entertainment, and climate control. To use the touchscreen display, simply touch the desired icon.  For example, you can touch the \"Navigation\" icon to get directions to your destination or touch the \"Music\" icon to play your favorite songs.\n",
      "\n"
     ]
    }
   ],
   "source": [
    "passage_oneline = passage.replace(\"\\n\", \" \")\n",
    "query_oneline = query.replace(\"\\n\", \" \")\n",
    "\n",
    "# This prompt is where you can specify any guidance on tone, or what topics the model should stick to, or avoid.\n",
    "prompt = f\"\"\"You are a helpful and informative bot that answers questions using text from the reference passage included below. \n",
    "Be sure to respond in a complete sentence, being comprehensive, including all relevant background information. \n",
    "However, you are talking to a non-technical audience, so be sure to break down complicated concepts and \n",
    "strike a friendly and converstional tone. If the passage is irrelevant to the answer, you may ignore it.\n",
    "\n",
    "QUESTION: {query_oneline}\n",
    "PASSAGE: {passage_oneline}\n",
    "\"\"\"\n",
    "print(prompt)"
   ]
  },
  {
   "cell_type": "code",
   "execution_count": 14,
   "id": "bff92653",
   "metadata": {
    "execution": {
     "iopub.execute_input": "2024-11-12T15:42:14.049074Z",
     "iopub.status.busy": "2024-11-12T15:42:14.048661Z",
     "iopub.status.idle": "2024-11-12T15:42:14.696986Z",
     "shell.execute_reply": "2024-11-12T15:42:14.695957Z"
    },
    "papermill": {
     "duration": 0.656419,
     "end_time": "2024-11-12T15:42:14.699307",
     "exception": false,
     "start_time": "2024-11-12T15:42:14.042888",
     "status": "completed"
    },
    "tags": []
   },
   "outputs": [
    {
     "data": {
      "text/markdown": [
       "To play music, you can simply touch the \"Music\" icon on the touchscreen display. \n"
      ],
      "text/plain": [
       "<IPython.core.display.Markdown object>"
      ]
     },
     "execution_count": 14,
     "metadata": {},
     "output_type": "execute_result"
    }
   ],
   "source": [
    "model = genai.GenerativeModel(\"gemini-1.5-flash-latest\")\n",
    "answer = model.generate_content(prompt)\n",
    "Markdown(answer.text)"
   ]
  },
  {
   "cell_type": "code",
   "execution_count": null,
   "id": "0f7bd4af",
   "metadata": {
    "papermill": {
     "duration": 0.004414,
     "end_time": "2024-11-12T15:42:14.708590",
     "exception": false,
     "start_time": "2024-11-12T15:42:14.704176",
     "status": "completed"
    },
    "tags": []
   },
   "outputs": [],
   "source": []
  }
 ],
 "metadata": {
  "kaggle": {
   "accelerator": "none",
   "dataSources": [],
   "dockerImageVersionId": 30786,
   "isGpuEnabled": false,
   "isInternetEnabled": true,
   "language": "python",
   "sourceType": "notebook"
  },
  "kernelspec": {
   "display_name": "Python 3",
   "language": "python",
   "name": "python3"
  },
  "language_info": {
   "codemirror_mode": {
    "name": "ipython",
    "version": 3
   },
   "file_extension": ".py",
   "mimetype": "text/x-python",
   "name": "python",
   "nbconvert_exporter": "python",
   "pygments_lexer": "ipython3",
   "version": "3.10.14"
  },
  "papermill": {
   "default_parameters": {},
   "duration": 63.451123,
   "end_time": "2024-11-12T15:42:15.534137",
   "environment_variables": {},
   "exception": null,
   "input_path": "__notebook__.ipynb",
   "output_path": "__notebook__.ipynb",
   "parameters": {},
   "start_time": "2024-11-12T15:41:12.083014",
   "version": "2.6.0"
  }
 },
 "nbformat": 4,
 "nbformat_minor": 5
}
